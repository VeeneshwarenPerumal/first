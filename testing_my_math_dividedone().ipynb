{
  "nbformat": 4,
  "nbformat_minor": 0,
  "metadata": {
    "colab": {
      "name": "testing_my_math.divide().ipynb",
      "provenance": [],
      "include_colab_link": true
    },
    "kernelspec": {
      "name": "python3",
      "display_name": "Python 3"
    },
    "language_info": {
      "name": "python"
    }
  },
  "cells": [
    {
      "cell_type": "markdown",
      "metadata": {
        "id": "view-in-github",
        "colab_type": "text"
      },
      "source": [
        "<a href=\"https://colab.research.google.com/github/VeeneshwarenPerumal/Curtin/blob/main/testing_my_math_dividedone().ipynb\" target=\"_parent\"><img src=\"https://colab.research.google.com/assets/colab-badge.svg\" alt=\"Open In Colab\"/></a>"
      ]
    },
    {
      "cell_type": "markdown",
      "source": [
        "## Testing  my_math.divide()\n",
        "\n",
        "What is your preferred testing strategy? Do you like using the assert statement or prefer doctest?  \n",
        "\n",
        "Using your preferred testing strategy, develop a test table and test the following funciton.  Where required update the function so all test behave as expected.\n",
        "\n",
        "\n",
        "## Function to test"
      ],
      "metadata": {
        "id": "LIfoDVzKX7uK"
      }
    },
    {
      "cell_type": "code",
      "source": [
        "def divide(x, y):\n",
        "    '''Divide first by second number'''\n",
        "    return x / y"
      ],
      "metadata": {
        "id": "YH9gDoOYvKwg"
      },
      "execution_count": null,
      "outputs": []
    },
    {
      "cell_type": "markdown",
      "source": [
        "## Test Table\n",
        "\n",
        "List you test cases here."
      ],
      "metadata": {
        "id": "JYSZ-53nLF6n"
      }
    },
    {
      "cell_type": "code",
      "source": [
        "\n",
        "\n",
        "**Preferred testing strategy:**\n",
        "\n",
        "I prefer using the `assert` statement for testing because it is more explicit and easier to read.\n",
        "\n",
        "**Test table:**\n",
        "\n",
        "| Input | Expected output |\n",
        "|---|---|\n",
        "| `divide(4, 2)` | `2.0` |\n",
        "| `divide(10, 5)` | `2.0` |\n",
        "| `divide(100, 10)` | `10.0` |\n",
        "| `divide(50, 2)` | `25.0` |\n",
        "| `divide(100, 5)` | `20.0` |\n",
        "\n",
        "**Test code:**\n",
        "\n"
      ],
      "metadata": {
        "id": "DMTITEmbLE_Z"
      },
      "execution_count": null,
      "outputs": []
    }
  ]
}