{
  "nbformat": 4,
  "nbformat_minor": 0,
  "metadata": {
    "colab": {
      "name": "sale_price.ipynb",
      "provenance": []
    },
    "kernelspec": {
      "name": "python3",
      "display_name": "Python 3"
    },
    "language_info": {
      "name": "python"
    }
  },
  "cells": [
    {
      "cell_type": "markdown",
      "metadata": {
        "id": "cgTeiXOtSPjH"
      },
      "source": [
        "# Sales Price\n",
        "\n",
        "A local department store needs to develop a program that will computer the total price (including goods and services tax) of the item on sale when given an item's original price and discount percentage.\n",
        "\n",
        "## Tasks\n",
        "* Save to Github\n",
        "* Design Algorithm\n",
        "* Write and test the program in Python"
      ]
    },
    {
      "cell_type": "code",
      "source": [
        "# Get the original price of the item\n",
        "original_price = float(input(\"Enter the original price of the item: \"))\n",
        "\n",
        "# Get the discount percentage\n",
        "discount_percentage = float(input(\"Enter the discount percentage: \"))\n",
        "\n",
        "# Calculate the discount amount\n",
        "discount_amount = original_price * discount_percentage / 100\n",
        "\n",
        "# Calculate the price after discount\n",
        "price_after_discount = original_price - discount_amount\n",
        "\n",
        "# Calculate the GST amount\n",
        "gst_amount = price_after_discount * 0.05\n",
        "\n",
        "# Calculate the total price\n",
        "total_price = price_after_discount + gst_amount\n",
        "\n",
        "# Print the total price\n",
        "print(\"The total price of the item is:\", total_price)\n"
      ],
      "metadata": {
        "id": "zrJ_EKOKYgkB"
      },
      "execution_count": null,
      "outputs": []
    }
  ]
}