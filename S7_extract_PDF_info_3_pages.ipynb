{
  "cells": [
    {
      "cell_type": "markdown",
      "metadata": {
        "id": "view-in-github",
        "colab_type": "text"
      },
      "source": [
        "<a href=\"https://colab.research.google.com/github/VeeneshwarenPerumal/first/blob/main/S7_extract_PDF_info_3_pages.ipynb\" target=\"_parent\"><img src=\"https://colab.research.google.com/assets/colab-badge.svg\" alt=\"Open In Colab\"/></a>"
      ]
    },
    {
      "cell_type": "raw",
      "id": "a898a087",
      "metadata": {
        "id": "a898a087"
      },
      "source": [
        "reader = PdfReader(\"ebook_sample.pdf\")\n",
        "number_of_pages = len(reader.pages)\n",
        "page = reader.pages[2]\n",
        "text = page.extract_text()"
      ]
    },
    {
      "cell_type": "code",
      "source": [
        "! pip install PyPDF2"
      ],
      "metadata": {
        "colab": {
          "base_uri": "https://localhost:8080/"
        },
        "id": "8gD2TgKa6cSx",
        "outputId": "807aabb6-59e6-4418-d913-3d741847a63f"
      },
      "id": "8gD2TgKa6cSx",
      "execution_count": 3,
      "outputs": [
        {
          "output_type": "stream",
          "name": "stdout",
          "text": [
            "Collecting PyPDF2\n",
            "  Downloading pypdf2-3.0.1-py3-none-any.whl (232 kB)\n",
            "\u001b[?25l     \u001b[90m━━━━━━━━━━━━━━━━━━━━━━━━━━━━━━━━━━━━━━━━\u001b[0m \u001b[32m0.0/232.6 kB\u001b[0m \u001b[31m?\u001b[0m eta \u001b[36m-:--:--\u001b[0m\r\u001b[2K     \u001b[91m━━━━━━━━━━━━━━━━━━━━━━━━━━━━━━━━━━━━━━\u001b[0m\u001b[91m╸\u001b[0m\u001b[90m━\u001b[0m \u001b[32m225.3/232.6 kB\u001b[0m \u001b[31m8.3 MB/s\u001b[0m eta \u001b[36m0:00:01\u001b[0m\r\u001b[2K     \u001b[90m━━━━━━━━━━━━━━━━━━━━━━━━━━━━━━━━━━━━━━━━\u001b[0m \u001b[32m232.6/232.6 kB\u001b[0m \u001b[31m6.1 MB/s\u001b[0m eta \u001b[36m0:00:00\u001b[0m\n",
            "\u001b[?25hInstalling collected packages: PyPDF2\n",
            "Successfully installed PyPDF2-3.0.1\n"
          ]
        }
      ]
    },
    {
      "cell_type": "code",
      "execution_count": 4,
      "id": "dc1b0b26",
      "metadata": {
        "id": "dc1b0b26"
      },
      "outputs": [],
      "source": [
        "from PyPDF2 import PdfReader"
      ]
    },
    {
      "cell_type": "raw",
      "id": "3aa269c1",
      "metadata": {
        "id": "3aa269c1"
      },
      "source": [
        "print(\"Number of pages\", number_of_pages)\n",
        "print(text)"
      ]
    },
    {
      "cell_type": "code",
      "execution_count": null,
      "id": "8f4bb4b4",
      "metadata": {
        "id": "8f4bb4b4"
      },
      "outputs": [],
      "source": []
    },
    {
      "cell_type": "code",
      "execution_count": 5,
      "id": "2963fcb4",
      "metadata": {
        "colab": {
          "base_uri": "https://localhost:8080/"
        },
        "id": "2963fcb4",
        "outputId": "76b0fbdf-3b9d-4b35-a499-e80dc065fea4"
      },
      "outputs": [
        {
          "output_type": "stream",
          "name": "stdout",
          "text": [
            "Some errors occured in the processs..\n"
          ]
        }
      ],
      "source": [
        "try:\n",
        "    with open(\"/content/ebook_sample.pdf\", 'w') as f:\n",
        "\n",
        "        reader = PdfReader(\"ebook_sample.pdf\")\n",
        "        number_of_pages = len(reader.pages)\n",
        "\n",
        "        for p_index in range(number_of_pages):\n",
        "            page = reader.pages[p_index]\n",
        "            text = page.extract_text()\n",
        "\n",
        "            f.write(\"Page {0}\\n\".format(p_index+1))\n",
        "            f.write(text)\n",
        "            f.write(\"\\n\\n\\n\\n\\n\\n\\n\")\n",
        "\n",
        "except:\n",
        "\n",
        "    print(\"Some errors occured in the processs..\")\n",
        "\n",
        "else:\n",
        "    print(\"Number of pages\", number_of_pages)"
      ]
    },
    {
      "cell_type": "code",
      "execution_count": null,
      "id": "bc2efcc2",
      "metadata": {
        "id": "bc2efcc2"
      },
      "outputs": [],
      "source": []
    }
  ],
  "metadata": {
    "kernelspec": {
      "display_name": "Python 3 (ipykernel)",
      "language": "python",
      "name": "python3"
    },
    "language_info": {
      "codemirror_mode": {
        "name": "ipython",
        "version": 3
      },
      "file_extension": ".py",
      "mimetype": "text/x-python",
      "name": "python",
      "nbconvert_exporter": "python",
      "pygments_lexer": "ipython3",
      "version": "3.10.12"
    },
    "vp": {
      "vp_config_version": "1.0.0",
      "vp_menu_width": 273,
      "vp_note_display": false,
      "vp_note_width": 263,
      "vp_position": {
        "width": 278
      },
      "vp_section_display": false,
      "vp_signature": "VisualPython"
    },
    "colab": {
      "provenance": [],
      "include_colab_link": true
    }
  },
  "nbformat": 4,
  "nbformat_minor": 5
}