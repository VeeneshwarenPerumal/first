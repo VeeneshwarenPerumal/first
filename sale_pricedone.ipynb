{
  "nbformat": 4,
  "nbformat_minor": 0,
  "metadata": {
    "colab": {
      "name": "sale_price.ipynb",
      "provenance": [],
      "include_colab_link": true
    },
    "kernelspec": {
      "name": "python3",
      "display_name": "Python 3"
    },
    "language_info": {
      "name": "python"
    }
  },
  "cells": [
    {
      "cell_type": "markdown",
      "metadata": {
        "id": "view-in-github",
        "colab_type": "text"
      },
      "source": [
        "<a href=\"https://colab.research.google.com/github/VeeneshwarenPerumal/Curtin/blob/main/sale_pricedone.ipynb\" target=\"_parent\"><img src=\"https://colab.research.google.com/assets/colab-badge.svg\" alt=\"Open In Colab\"/></a>"
      ]
    },
    {
      "cell_type": "markdown",
      "metadata": {
        "id": "cgTeiXOtSPjH"
      },
      "source": [
        "# Sales Price\n",
        "\n",
        "A local department store needs to develop a program that will computer the total price (including goods and services tax) of the item on sale when given an item's original price and discount percentage.\n",
        "\n",
        "## Tasks\n",
        "* Save to Github\n",
        "* Design Algorithm\n",
        "* Write and test the program in Python"
      ]
    },
    {
      "cell_type": "code",
      "metadata": {
        "id": "pPIN2ZcrSqdw",
        "outputId": "f2edd57b-139a-4b0c-ec04-b82529414180",
        "colab": {
          "base_uri": "https://localhost:8080/"
        }
      },
      "source": [
        "\n",
        "original_price = float(input(\"Enter the original price of the item: \"))\n",
        "\n",
        "discount_percentage = float(input(\"Enter the discount percentage: \"))\n",
        "\n",
        "discount_amount = original_price * discount_percentage / 100\n",
        "\n",
        "discounted_price = original_price - discount_amount\n",
        "\n",
        "gst_percentage = 7\n",
        "gst_amount = discounted_price * gst_percentage / 100\n",
        "\n",
        "total_price = discounted_price + gst_amount\n",
        "\n",
        "print(\"The total price of the item is:\", total_price)\n"
      ],
      "execution_count": 1,
      "outputs": [
        {
          "output_type": "stream",
          "name": "stdout",
          "text": [
            "Enter the original price of the item: 100\n",
            "Enter the discount percentage: 50\n",
            "The total price of the item is: 53.5\n"
          ]
        }
      ]
    }
  ]
}