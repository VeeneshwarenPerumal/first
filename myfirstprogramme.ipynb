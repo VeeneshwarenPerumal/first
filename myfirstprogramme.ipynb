{
  "nbformat": 4,
  "nbformat_minor": 0,
  "metadata": {
    "colab": {
      "provenance": []
    },
    "kernelspec": {
      "name": "python3",
      "display_name": "Python 3"
    },
    "language_info": {
      "name": "python"
    }
  },
  "cells": [
    {
      "cell_type": "code",
      "execution_count": null,
      "metadata": {
        "colab": {
          "base_uri": "https://localhost:8080/"
        },
        "id": "dpLUP7TUyHzm",
        "outputId": "7f441b3a-2153-4fed-d473-1db1979b57a8"
      },
      "outputs": [
        {
          "output_type": "stream",
          "name": "stdout",
          "text": [
            "Hello World\n"
          ]
        }
      ],
      "source": [
        "print (\"Hello World\")"
      ]
    },
    {
      "cell_type": "code",
      "source": [
        "print (\"hello\", \"world\")"
      ],
      "metadata": {
        "colab": {
          "base_uri": "https://localhost:8080/"
        },
        "id": "nt43CIRFN1BL",
        "outputId": "6f688859-e768-4794-a6d1-34755fed7758"
      },
      "execution_count": null,
      "outputs": [
        {
          "output_type": "stream",
          "name": "stdout",
          "text": [
            "hello world\n"
          ]
        }
      ]
    },
    {
      "cell_type": "code",
      "source": [
        "print (\"hello\"+ \"world\")"
      ],
      "metadata": {
        "colab": {
          "base_uri": "https://localhost:8080/"
        },
        "id": "6C8fzCQkPOnH",
        "outputId": "7b35fb80-790f-4feb-f164-8487a401fd27"
      },
      "execution_count": null,
      "outputs": [
        {
          "output_type": "stream",
          "name": "stdout",
          "text": [
            "helloworld\n"
          ]
        }
      ]
    },
    {
      "cell_type": "code",
      "source": [
        "print (\"hello\"+ \" world\")"
      ],
      "metadata": {
        "colab": {
          "base_uri": "https://localhost:8080/"
        },
        "id": "o158eatuPdfy",
        "outputId": "98837dd9-f463-45b5-d8a8-42a60bd9aeed"
      },
      "execution_count": null,
      "outputs": [
        {
          "output_type": "stream",
          "name": "stdout",
          "text": [
            "hello world\n"
          ]
        }
      ]
    },
    {
      "cell_type": "markdown",
      "source": [
        "static data"
      ],
      "metadata": {
        "id": "W6jyErxZQK6G"
      }
    },
    {
      "cell_type": "markdown",
      "source": [
        "variable"
      ],
      "metadata": {
        "id": "g1A5eIT7Sexs"
      }
    },
    {
      "cell_type": "code",
      "source": [
        "x = 10\n",
        "x = \"curtin\"\n",
        "x = 4.3\n",
        "x = True\n",
        "print (x)"
      ],
      "metadata": {
        "colab": {
          "base_uri": "https://localhost:8080/"
        },
        "id": "4ASbX6-7ShkI",
        "outputId": "f88eea67-f5c4-49ce-f180-438bc1abe715"
      },
      "execution_count": null,
      "outputs": [
        {
          "output_type": "stream",
          "name": "stdout",
          "text": [
            "True\n"
          ]
        }
      ]
    },
    {
      "cell_type": "code",
      "source": [
        "y = [\"abc\",\"bcs\",\"qwe\"]\n",
        "print (y)"
      ],
      "metadata": {
        "colab": {
          "base_uri": "https://localhost:8080/"
        },
        "id": "7L6F156nSuFY",
        "outputId": "a5dea1de-d716-486e-cc5c-ff4f8f67db8d"
      },
      "execution_count": null,
      "outputs": [
        {
          "output_type": "stream",
          "name": "stdout",
          "text": [
            "['abc', 'bcs', 'qwe']\n"
          ]
        }
      ]
    },
    {
      "cell_type": "code",
      "source": [
        "print( type(x))"
      ],
      "metadata": {
        "colab": {
          "base_uri": "https://localhost:8080/"
        },
        "id": "WtU6UhjCVKEj",
        "outputId": "395a7baa-86fd-4b65-925b-6cddc53c64b8"
      },
      "execution_count": null,
      "outputs": [
        {
          "output_type": "stream",
          "name": "stdout",
          "text": [
            "<class 'bool'>\n"
          ]
        }
      ]
    },
    {
      "cell_type": "code",
      "source": [
        "print( type(y))"
      ],
      "metadata": {
        "colab": {
          "base_uri": "https://localhost:8080/"
        },
        "id": "gf-CiwHkVTUD",
        "outputId": "6f593f75-0026-4ca6-dc5f-d49d081c9cd7"
      },
      "execution_count": null,
      "outputs": [
        {
          "output_type": "stream",
          "name": "stdout",
          "text": [
            "<class 'list'>\n"
          ]
        }
      ]
    },
    {
      "cell_type": "markdown",
      "source": [
        "CONCATINATION"
      ],
      "metadata": {
        "id": "5qSlkTpWYuhi"
      }
    },
    {
      "cell_type": "code",
      "source": [
        "age = 45\n",
        "print(\"This person is\",(age),\"years old\")"
      ],
      "metadata": {
        "colab": {
          "base_uri": "https://localhost:8080/"
        },
        "id": "Okh1ZBzyYzJ0",
        "outputId": "a09cac0d-7579-45a6-fc1a-5c1496effdb4"
      },
      "execution_count": null,
      "outputs": [
        {
          "output_type": "stream",
          "name": "stdout",
          "text": [
            "This person is 45 years old\n"
          ]
        }
      ]
    },
    {
      "cell_type": "code",
      "source": [
        "print(\"This person is \"+ str(age)+ \" years old\")"
      ],
      "metadata": {
        "colab": {
          "base_uri": "https://localhost:8080/"
        },
        "id": "8wmbY55QZKWN",
        "outputId": "4bc0f0ff-0f83-4562-f506-fec4ae8a0b0b"
      },
      "execution_count": null,
      "outputs": [
        {
          "output_type": "stream",
          "name": "stdout",
          "text": [
            "This person is 45 years old\n"
          ]
        }
      ]
    },
    {
      "cell_type": "code",
      "source": [
        "age = input(\"Enter your age: \")\n",
        "print(\"This person is\",(age),\"years old\")\n",
        "\n"
      ],
      "metadata": {
        "colab": {
          "base_uri": "https://localhost:8080/"
        },
        "id": "AplraRCAb5Z0",
        "outputId": "8d57a5b2-82c2-48fd-b948-8e319ead986d"
      },
      "execution_count": null,
      "outputs": [
        {
          "output_type": "stream",
          "name": "stdout",
          "text": [
            "Enter your age: 45\n",
            "This person is 45 years old\n"
          ]
        }
      ]
    },
    {
      "cell_type": "code",
      "source": [
        "surname = input(\"Enter your Surname \" )\n",
        "name = input(\"Enter your Name \")\n",
        "age = input(\"Enter your age \")\n",
        "address = input(\"Enter your Address \")\n",
        "print(\"This person is\", surname, name, \"you are\", age, \"years old, and you live at\", address)"
      ],
      "metadata": {
        "id": "llDxMtmPckWU",
        "colab": {
          "base_uri": "https://localhost:8080/"
        },
        "outputId": "4ae006e2-e948-46de-c058-9dda0da7b90b"
      },
      "execution_count": null,
      "outputs": [
        {
          "output_type": "stream",
          "name": "stdout",
          "text": [
            "Enter your Surname ww\n",
            "Enter your Name sw\n",
            "Enter your age 33\n",
            "Enter your Address ee\n",
            "This person is ww sw you are 33 years old, and you live at ee\n"
          ]
        }
      ]
    },
    {
      "cell_type": "code",
      "source": [
        "info = \"\"\n",
        "info = info + \"your full name is \" + surname + \" \" +  name\n",
        "info = info + \". Your age is \" + age + \" and you live at \" + address\n",
        "print(info)"
      ],
      "metadata": {
        "colab": {
          "base_uri": "https://localhost:8080/"
        },
        "id": "g3bnJ1BxnE0H",
        "outputId": "017625ed-ec1d-4031-d00c-2df5616090c8"
      },
      "execution_count": null,
      "outputs": [
        {
          "output_type": "stream",
          "name": "stdout",
          "text": [
            "your full name is ww sw. Your age is 33 and you live at ee\n"
          ]
        }
      ]
    },
    {
      "cell_type": "code",
      "source": [
        "number1 = input(\"Enter number 1 = \")\n",
        "number2 = input(\"Enter number 2 = \")\n",
        "x = int(number1)\n",
        "y = int(number2)\n",
        "total = x + y\n",
        "print(total)"
      ],
      "metadata": {
        "colab": {
          "base_uri": "https://localhost:8080/"
        },
        "id": "5vntFthas_ce",
        "outputId": "964135b6-07e6-414d-bc5c-a3f19fc3fdc3"
      },
      "execution_count": null,
      "outputs": [
        {
          "output_type": "stream",
          "name": "stdout",
          "text": [
            "Enter number 1 = 22\n",
            "Enter number 2 = 12\n",
            "34\n"
          ]
        }
      ]
    },
    {
      "cell_type": "code",
      "source": [
        "number1 = input(\"Enter number 1 = \")\n",
        "number2 = input(\"Enter number 2 = \")\n",
        "x = float(number1)\n",
        "y = float(number2)\n",
        "total = x + y\n",
        "print(total)"
      ],
      "metadata": {
        "colab": {
          "base_uri": "https://localhost:8080/"
        },
        "id": "YKDNfj9dvLyH",
        "outputId": "1b45f62c-496d-4c9b-9cf2-92692ef81b90"
      },
      "execution_count": null,
      "outputs": [
        {
          "output_type": "stream",
          "name": "stdout",
          "text": [
            "Enter number 1 = 22\n",
            "Enter number 2 = 12\n",
            "34.0\n"
          ]
        }
      ]
    }
  ]
}